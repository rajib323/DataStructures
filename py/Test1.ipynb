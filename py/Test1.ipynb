{
 "cells": [
  {
   "cell_type": "code",
   "execution_count": 6,
   "metadata": {},
   "outputs": [
    {
     "name": "stdout",
     "output_type": "stream",
     "text": [
      "Ratio is 2 : 3\n",
      "Ratio is 37 : 56\n",
      "Ratio is 4 : 8\n",
      "Ratio is 7 : 11\n",
      "Ratio is 35 : 43\n"
     ]
    }
   ],
   "source": [
    "sent=[\"hello\",'\"All of us are in this together,\" said Pachauri.. \"Climate change is not a problem for one country or one region,',\n",
    "'the city of joy','Hello welcome to GNIT','Neque porro quisquam est qui dolorem ipsum quia dolor sit amet, consectetur, adipisci velit']\n",
    "\n",
    "for ch in sent:\n",
    "    v=['a','e','i','o','u']\n",
    "    #ch=input()\n",
    "    ch=ch.lower().replace(' ','')\n",
    "    l=len(ch)\n",
    "    c=0\n",
    "    for i in ch:\n",
    "        if(i in v):\n",
    "            c=c+1\n",
    "    print(\"Ratio is {} : {}\".format(c,l-c))\n",
    "\n"
   ]
  },
  {
   "cell_type": "code",
   "execution_count": 6,
   "metadata": {},
   "outputs": [
    {
     "name": "stdout",
     "output_type": "stream",
     "text": [
      "[47, 47, 44, 43, 37, 26, 24, 17, 15, 13, 8, 7, 5, 4, 4]\n",
      "[47, 94, 132, 172, 185, 156, 168, 136, 135, 130, 88, 84, 65, 56, 60]\n"
     ]
    }
   ],
   "source": [
    "b=[47,4,15,7,44,17,26,37,4,8,5,47,24,13,43]\n",
    "b.sort(reverse=True)\n",
    "print(b)\n",
    "k=1\n",
    "mx=0\n",
    "l=[]\n",
    "for i in b:\n",
    "    l.append(i*k)\n",
    "    k=k+1\n",
    "print(l)"
   ]
  },
  {
   "cell_type": "code",
   "execution_count": 62,
   "metadata": {},
   "outputs": [
    {
     "name": "stdout",
     "output_type": "stream",
     "text": [
      "0\n",
      "[[2, 3, 4], [8, 5, 54], [6, 4, 5]]\n",
      "2\n",
      "[[6, 4, 5], [6, 5]]\n",
      "4\n",
      "[]\n",
      "6\n",
      "[]\n",
      "8\n",
      "[]\n",
      "10\n",
      "[]\n"
     ]
    }
   ],
   "source": [
    "a=[2,3,4,8,5,54,6,4,5,6,5]#,2,4]\n",
    "b=3\n",
    "a.sort()\n",
    "k=[]\n",
    "\n",
    "\n",
    "\n",
    "for i in range(0,len(a),b):\n",
    "    print(i)\n",
    "    print(l[i:i+b])\n",
    "    k=l[i:i+b]\n"
   ]
  },
  {
   "cell_type": "code",
   "execution_count": 77,
   "metadata": {},
   "outputs": [
    {
     "name": "stdout",
     "output_type": "stream",
     "text": [
      "137\n"
     ]
    },
    {
     "name": "stderr",
     "output_type": "stream",
     "text": [
      "C:\\Users\\adity\\AppData\\Local\\Temp\\ipykernel_13248\\258532387.py:7: DeprecationWarning: The *random* parameter to shuffle() has been deprecated\n",
      "since Python 3.9 and will be removed in a subsequent version.\n",
      "  random.shuffle(x,mfc)\n"
     ]
    }
   ],
   "source": [
    "import numpy\n",
    "import random\n",
    "def mfc():\n",
    "    return 0.1\n",
    "x = [7,1,5,9,8,7,5,8,6,10,4,9,3,5,3,2,10,5,9,10,3,5,2,2,6]\n",
    "l = numpy.array_split(list(x),16)\n",
    "random.shuffle(x,mfc)\n",
    "amt=0\n",
    "for i in l:\n",
    "    c=0\n",
    "    for j in i:\n",
    "        c=c|j\n",
    "    amt=amt+c\n",
    "print(amt)\n"
   ]
  },
  {
   "cell_type": "code",
   "execution_count": 47,
   "metadata": {},
   "outputs": [
    {
     "name": "stdout",
     "output_type": "stream",
     "text": [
      "0\n",
      "[[2, 3, 4], [8, 5, 54], [6, 4, 5]]\n",
      "3\n",
      "[[6, 5]]\n",
      "6\n",
      "[]\n",
      "9\n",
      "[]\n"
     ]
    }
   ],
   "source": [
    "from itertools import islice\n",
    "\n",
    "\n",
    "\n",
    "for i in range(0,len(a),b):\n",
    "    print(i)\n",
    "    print(l[i:i+b])\n",
    "#print(v)"
   ]
  },
  {
   "cell_type": "code",
   "execution_count": 22,
   "metadata": {},
   "outputs": [
    {
     "name": "stdout",
     "output_type": "stream",
     "text": [
      "1\n"
     ]
    }
   ],
   "source": [
    "print(int(30/16))"
   ]
  },
  {
   "cell_type": "code",
   "execution_count": 9,
   "metadata": {},
   "outputs": [
    {
     "name": "stdout",
     "output_type": "stream",
     "text": [
      "7\n",
      "2\n",
      "230\n",
      "131\n",
      "66\n",
      "196\n",
      "89\n",
      "12\n",
      "4\n",
      "5\n",
      "Minimum in this list is : 2\n",
      "7\n",
      "2\n",
      "12\n",
      "4\n",
      "5\n",
      "Minimum in this list is : 2\n",
      "13\n",
      "7\n",
      "Minimum in this list is : 7\n",
      "77\n",
      "63\n",
      "44\n",
      "5467\n",
      "4\n",
      "564\n",
      "5\n",
      "Minimum in this list is : 4\n",
      "5456\n",
      "256\n",
      "84\n",
      "8721\n",
      "254\n",
      "876\n",
      "79\n",
      "35\n",
      "72\n",
      "4876\n",
      "43\n",
      "76\n",
      "46\n",
      "Minimum in this list is : 35\n"
     ]
    }
   ],
   "source": [
    "v=[[7,2,230,131,66,196,89,12,4,5],[7,2,12,4,5],[13,7],[77,63,44,5467,4,564,5],[5456,256,84,8721,254,876,79,35,72,4876,43,76,46]]\n",
    "for i in v:\n",
    "    min=999\n",
    "    for j in i:\n",
    "        print(j)\n",
    "        if(j<min):\n",
    "            min=j\n",
    "    print(\"Minimum in this list is : {}\".format(min))"
   ]
  },
  {
   "cell_type": "code",
   "execution_count": 8,
   "metadata": {},
   "outputs": [
    {
     "name": "stdout",
     "output_type": "stream",
     "text": [
      "                          * \n",
      "                         * * \n",
      "                        * * * \n",
      "                       * * * * \n",
      "                      * * * * * \n",
      "                     * * * * * * \n",
      "                    * * * * * * * \n",
      "                   * * * * * * * * \n",
      "                  * * * * * * * * * \n",
      "                 * * * * * * * * * * \n",
      "                * * * * * * * * * * * \n",
      "               * * * * * * * * * * * * \n",
      "              * * * * * * * * * * * * * \n",
      "             * * * * * * * * * * * * * * \n",
      "            * * * * * * * * * * * * * * * \n",
      "           * * * * * * * * * * * * * * * * \n",
      "          * * * * * * * * * * * * * * * * * \n",
      "         * * * * * * * * * * * * * * * * * * \n",
      "        * * * * * * * * * * * * * * * * * * * \n",
      "       * * * * * * * * * * * * * * * * * * * * \n",
      "      * * * * * * * * * * * * * * * * * * * * * \n",
      "     * * * * * * * * * * * * * * * * * * * * * * \n",
      "    * * * * * * * * * * * * * * * * * * * * * * * \n",
      "   * * * * * * * * * * * * * * * * * * * * * * * * \n",
      "  * * * * * * * * * * * * * * * * * * * * * * * * * \n"
     ]
    }
   ],
   "source": [
    "# Print Pascal's Triangle in Python\n",
    "from math import factorial\n",
    "\n",
    "# input n\n",
    "n = 25\n",
    "for i in range(n):\n",
    "\tfor j in range(n-i+1):\n",
    "\n",
    "\t\t# for left spacing\n",
    "\t\tprint(end=\" \")\n",
    "\n",
    "\tfor j in range(i+1):\n",
    "\n",
    "\t\t# nCr = n!/((n-r)!*r!)\n",
    "\t\tprint('*', end=\" \")\n",
    "\n",
    "\t# for new line\n",
    "\tprint()\n"
   ]
  }
 ],
 "metadata": {
  "kernelspec": {
   "display_name": "Python 3.10.2 64-bit",
   "language": "python",
   "name": "python3"
  },
  "language_info": {
   "codemirror_mode": {
    "name": "ipython",
    "version": 3
   },
   "file_extension": ".py",
   "mimetype": "text/x-python",
   "name": "python",
   "nbconvert_exporter": "python",
   "pygments_lexer": "ipython3",
   "version": "3.10.2"
  },
  "orig_nbformat": 4,
  "vscode": {
   "interpreter": {
    "hash": "369f2c481f4da34e4445cda3fffd2e751bd1c4d706f27375911949ba6bb62e1c"
   }
  }
 },
 "nbformat": 4,
 "nbformat_minor": 2
}
