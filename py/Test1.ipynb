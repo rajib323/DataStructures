{
 "cells": [
  {
   "cell_type": "code",
   "execution_count": 6,
   "metadata": {},
   "outputs": [
    {
     "name": "stdout",
     "output_type": "stream",
     "text": [
      "Ratio is 2 : 3\n",
      "Ratio is 37 : 56\n",
      "Ratio is 4 : 8\n",
      "Ratio is 7 : 11\n",
      "Ratio is 35 : 43\n"
     ]
    }
   ],
   "source": [
    "sent=[\"hello\",'\"All of us are in this together,\" said Pachauri.. \"Climate change is not a problem for one country or one region,',\n",
    "'the city of joy','Hello welcome to GNIT','Neque porro quisquam est qui dolorem ipsum quia dolor sit amet, consectetur, adipisci velit']\n",
    "\n",
    "for ch in sent:\n",
    "    v=['a','e','i','o','u']\n",
    "    #ch=input()\n",
    "    ch=ch.lower().replace(' ','')\n",
    "    l=len(ch)\n",
    "    c=0\n",
    "    for i in ch:\n",
    "        if(i in v):\n",
    "            c=c+1\n",
    "    print(\"Ratio is {} : {}\".format(c,l-c))\n",
    "\n"
   ]
  },
  {
   "cell_type": "code",
   "execution_count": 9,
   "metadata": {},
   "outputs": [
    {
     "name": "stdout",
     "output_type": "stream",
     "text": [
      "7\n",
      "2\n",
      "230\n",
      "131\n",
      "66\n",
      "196\n",
      "89\n",
      "12\n",
      "4\n",
      "5\n",
      "Minimum in this list is : 2\n",
      "7\n",
      "2\n",
      "12\n",
      "4\n",
      "5\n",
      "Minimum in this list is : 2\n",
      "13\n",
      "7\n",
      "Minimum in this list is : 7\n",
      "77\n",
      "63\n",
      "44\n",
      "5467\n",
      "4\n",
      "564\n",
      "5\n",
      "Minimum in this list is : 4\n",
      "5456\n",
      "256\n",
      "84\n",
      "8721\n",
      "254\n",
      "876\n",
      "79\n",
      "35\n",
      "72\n",
      "4876\n",
      "43\n",
      "76\n",
      "46\n",
      "Minimum in this list is : 35\n"
     ]
    }
   ],
   "source": [
    "v=[[7,2,230,131,66,196,89,12,4,5],[7,2,12,4,5],[13,7],[77,63,44,5467,4,564,5],[5456,256,84,8721,254,876,79,35,72,4876,43,76,46]]\n",
    "for i in v:\n",
    "    min=999\n",
    "    for j in i:\n",
    "        print(j)\n",
    "        if(j<min):\n",
    "            min=j\n",
    "    print(\"Minimum in this list is : {}\".format(min))"
   ]
  },
  {
   "cell_type": "code",
   "execution_count": 8,
   "metadata": {},
   "outputs": [
    {
     "name": "stdout",
     "output_type": "stream",
     "text": [
      "                          * \n",
      "                         * * \n",
      "                        * * * \n",
      "                       * * * * \n",
      "                      * * * * * \n",
      "                     * * * * * * \n",
      "                    * * * * * * * \n",
      "                   * * * * * * * * \n",
      "                  * * * * * * * * * \n",
      "                 * * * * * * * * * * \n",
      "                * * * * * * * * * * * \n",
      "               * * * * * * * * * * * * \n",
      "              * * * * * * * * * * * * * \n",
      "             * * * * * * * * * * * * * * \n",
      "            * * * * * * * * * * * * * * * \n",
      "           * * * * * * * * * * * * * * * * \n",
      "          * * * * * * * * * * * * * * * * * \n",
      "         * * * * * * * * * * * * * * * * * * \n",
      "        * * * * * * * * * * * * * * * * * * * \n",
      "       * * * * * * * * * * * * * * * * * * * * \n",
      "      * * * * * * * * * * * * * * * * * * * * * \n",
      "     * * * * * * * * * * * * * * * * * * * * * * \n",
      "    * * * * * * * * * * * * * * * * * * * * * * * \n",
      "   * * * * * * * * * * * * * * * * * * * * * * * * \n",
      "  * * * * * * * * * * * * * * * * * * * * * * * * * \n"
     ]
    }
   ],
   "source": [
    "# Print Pascal's Triangle in Python\n",
    "from math import factorial\n",
    "\n",
    "# input n\n",
    "n = 25\n",
    "for i in range(n):\n",
    "\tfor j in range(n-i+1):\n",
    "\n",
    "\t\t# for left spacing\n",
    "\t\tprint(end=\" \")\n",
    "\n",
    "\tfor j in range(i+1):\n",
    "\n",
    "\t\t# nCr = n!/((n-r)!*r!)\n",
    "\t\tprint('*', end=\" \")\n",
    "\n",
    "\t# for new line\n",
    "\tprint()\n"
   ]
  }
 ],
 "metadata": {
  "kernelspec": {
   "display_name": "Python 3.10.2 64-bit",
   "language": "python",
   "name": "python3"
  },
  "language_info": {
   "codemirror_mode": {
    "name": "ipython",
    "version": 3
   },
   "file_extension": ".py",
   "mimetype": "text/x-python",
   "name": "python",
   "nbconvert_exporter": "python",
   "pygments_lexer": "ipython3",
   "version": "3.10.2"
  },
  "orig_nbformat": 4,
  "vscode": {
   "interpreter": {
    "hash": "369f2c481f4da34e4445cda3fffd2e751bd1c4d706f27375911949ba6bb62e1c"
   }
  }
 },
 "nbformat": 4,
 "nbformat_minor": 2
}
