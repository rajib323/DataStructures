{
 "cells": [
  {
   "cell_type": "code",
   "execution_count": 6,
   "metadata": {},
   "outputs": [
    {
     "name": "stdout",
     "output_type": "stream",
     "text": [
      "a23923ccd5faed408696b9bdc5d01e272745b0103c06ef2cb1a09a9419b023b4\n"
     ]
    }
   ],
   "source": [
    "import hashlib\n",
    "v=hashlib.sha256()\n",
    "v.update(\"adityanandi550@gmail.com\".encode('utf-8'))\n",
    "print(v.hexdigest())"
   ]
  },
  {
   "cell_type": "code",
   "execution_count": 8,
   "metadata": {},
   "outputs": [
    {
     "name": "stdout",
     "output_type": "stream",
     "text": [
      "b'62911106141234'\n",
      "09b0019fb8f760dae4e3474b78c7d085c8dfe1ea94523bb2e341f0c5c633277b\n",
      "12fe1b29fc6df0dcd1f77268af20d4be8d93cd20972a5929b68560c7c89687dd\n",
      "2c95f6c1a567429cff682d387f9a545cf8e93b98bd7744aa668681c90da06438\n",
      "309dc3721c49a5b3debb7233cef28e2a011a66db0b8a06e2d50b6beba666b1e5\n",
      "cbd64f298c5c243503b7d8b07930b5df3a33b94e37a19dbf32ef213056c9ab2a\n"
     ]
    }
   ],
   "source": [
    "import hashlib\n",
    "v='6291110614' + '1234'\n",
    "print(v.encode('utf-8'))\n",
    "\n",
    "for i in range(0,5):\n",
    "    v=hashlib.sha256(v.encode('utf-8')).hexdigest()\n",
    "    print(v)\n",
    "#l=hashlib.sha256(.encode('utf-8')).hexdigest()*5\n"
   ]
  },
  {
   "cell_type": "code",
   "execution_count": 4,
   "metadata": {},
   "outputs": [
    {
     "name": "stdout",
     "output_type": "stream",
     "text": [
      "adityanandi550@gmail.com1234\n",
      "1ee0a24e0c8fd06c1cbd66b17019eb5e9bed6b4691b5a8278a974633789e1b7c\n",
      "cc37f4435b9f4643e437cbfbd0c33a33e259461c09d60896d7226ea5cbd3969c\n",
      "472d79557832847f281d0ba0377f9a4dd0c3b06b27a611bca8d41dcbd9d9be45\n",
      "df1a84365c0245b7e991a7bf76b066c5eaaf4a532375d6af230a4ee46b7ece7e\n",
      "3774882e1cff6b9d394f16fe000096e7ad65dbca3a0549e4e38faab550aa5069\n"
     ]
    }
   ],
   "source": [
    "import hashlib\n",
    "v='adityanandi550@gmail.com1234'\n",
    "print(v)\n",
    "for i in range(0,5):\n",
    "    \n",
    "    v=hashlib.sha256(v.encode('utf-8')).hexdigest()\n",
    "    print(v)\n",
    "#l=hashlib.sha256(.encode('utf-8')).hexdigest()*5\n",
    "1e0d07b0fd1279beff03b2071c53835385c7cdadb46bf2163994ca92e23fb3df"
   ]
  },
  {
   "cell_type": "code",
   "execution_count": 3,
   "metadata": {},
   "outputs": [
    {
     "ename": "FeatureNotFound",
     "evalue": "Couldn't find a tree builder with the features you requested: html5lib. Do you need to install a parser library?",
     "output_type": "error",
     "traceback": [
      "\u001b[1;31m---------------------------------------------------------------------------\u001b[0m",
      "\u001b[1;31mFeatureNotFound\u001b[0m                           Traceback (most recent call last)",
      "\u001b[1;32md:\\DataStructures\\py\\biman.ipynb Cell 4\u001b[0m in \u001b[0;36m<cell line: 6>\u001b[1;34m()\u001b[0m\n\u001b[0;32m      <a href='vscode-notebook-cell:/d%3A/DataStructures/py/biman.ipynb#W3sZmlsZQ%3D%3D?line=3'>4</a>\u001b[0m r \u001b[39m=\u001b[39m requests\u001b[39m.\u001b[39mget(URL)\u001b[39m.\u001b[39mtext\n\u001b[0;32m      <a href='vscode-notebook-cell:/d%3A/DataStructures/py/biman.ipynb#W3sZmlsZQ%3D%3D?line=4'>5</a>\u001b[0m \u001b[39m#print(r)\u001b[39;00m\n\u001b[1;32m----> <a href='vscode-notebook-cell:/d%3A/DataStructures/py/biman.ipynb#W3sZmlsZQ%3D%3D?line=5'>6</a>\u001b[0m soup \u001b[39m=\u001b[39m BeautifulSoup(r,\u001b[39m'\u001b[39;49m\u001b[39mhtml5lib\u001b[39;49m\u001b[39m'\u001b[39;49m)\n\u001b[0;32m      <a href='vscode-notebook-cell:/d%3A/DataStructures/py/biman.ipynb#W3sZmlsZQ%3D%3D?line=6'>7</a>\u001b[0m find \u001b[39m=\u001b[39m soup\u001b[39m.\u001b[39mfind(\u001b[39m'\u001b[39m\u001b[39mspan\u001b[39m\u001b[39m'\u001b[39m, class_ \u001b[39m=\u001b[39m \u001b[39m'\u001b[39m\u001b[39mproductTitle\u001b[39m\u001b[39m'\u001b[39m) \u001b[39m#this gives only the first search\u001b[39;00m\n\u001b[0;32m      <a href='vscode-notebook-cell:/d%3A/DataStructures/py/biman.ipynb#W3sZmlsZQ%3D%3D?line=7'>8</a>\u001b[0m find_name \u001b[39m=\u001b[39m soup\u001b[39m.\u001b[39mfind(\u001b[39m'\u001b[39m\u001b[39mspan\u001b[39m\u001b[39m'\u001b[39m, class_ \u001b[39m=\u001b[39m \u001b[39m'\u001b[39m\u001b[39ma-price-whole\u001b[39m\u001b[39m'\u001b[39m)\n",
      "File \u001b[1;32mc:\\Python310\\lib\\site-packages\\bs4\\__init__.py:248\u001b[0m, in \u001b[0;36mBeautifulSoup.__init__\u001b[1;34m(self, markup, features, builder, parse_only, from_encoding, exclude_encodings, element_classes, **kwargs)\u001b[0m\n\u001b[0;32m    246\u001b[0m     builder_class \u001b[39m=\u001b[39m builder_registry\u001b[39m.\u001b[39mlookup(\u001b[39m*\u001b[39mfeatures)\n\u001b[0;32m    247\u001b[0m     \u001b[39mif\u001b[39;00m builder_class \u001b[39mis\u001b[39;00m \u001b[39mNone\u001b[39;00m:\n\u001b[1;32m--> 248\u001b[0m         \u001b[39mraise\u001b[39;00m FeatureNotFound(\n\u001b[0;32m    249\u001b[0m             \u001b[39m\"\u001b[39m\u001b[39mCouldn\u001b[39m\u001b[39m'\u001b[39m\u001b[39mt find a tree builder with the features you \u001b[39m\u001b[39m\"\u001b[39m\n\u001b[0;32m    250\u001b[0m             \u001b[39m\"\u001b[39m\u001b[39mrequested: \u001b[39m\u001b[39m%s\u001b[39;00m\u001b[39m. Do you need to install a parser library?\u001b[39m\u001b[39m\"\u001b[39m\n\u001b[0;32m    251\u001b[0m             \u001b[39m%\u001b[39m \u001b[39m\"\u001b[39m\u001b[39m,\u001b[39m\u001b[39m\"\u001b[39m\u001b[39m.\u001b[39mjoin(features))\n\u001b[0;32m    253\u001b[0m \u001b[39m# At this point either we have a TreeBuilder instance in\u001b[39;00m\n\u001b[0;32m    254\u001b[0m \u001b[39m# builder, or we have a builder_class that we can instantiate\u001b[39;00m\n\u001b[0;32m    255\u001b[0m \u001b[39m# with the remaining **kwargs.\u001b[39;00m\n\u001b[0;32m    256\u001b[0m \u001b[39mif\u001b[39;00m builder \u001b[39mis\u001b[39;00m \u001b[39mNone\u001b[39;00m:\n",
      "\u001b[1;31mFeatureNotFound\u001b[0m: Couldn't find a tree builder with the features you requested: html5lib. Do you need to install a parser library?"
     ]
    }
   ],
   "source": [
    "\n",
    "from bs4 import BeautifulSoup\n",
    "import requests\n",
    "URL = \"https://www.amazon.in/realme-Wireless-Titanium-Playback-Charging/dp/B0BC1GLVYQ/ref=sr_1_3?crid=2LZ7J5X8HD3HC&keywords=realme+air+3s&qid=1666862153&qu=eyJxc2MiOiIyLjE5IiwicXNhIjoiMC45MyIsInFzcCI6IjAuNjAifQ%3D%3D&sprefix=realme+air%2Caps%2C249&sr=8-3\"\n",
    "r = requests.get(URL).text\n",
    "#print(r)\n",
    "soup = BeautifulSoup(r,'html5lib')\n",
    "find = soup.find('span', class_ = 'productTitle') #this gives only the first search\n",
    "find_name = soup.find('span', class_ = 'a-price-whole')\n",
    "print(find.text)\n",
    "print(find_name.text)\n",
    "\n"
   ]
  },
  {
   "cell_type": "code",
   "execution_count": null,
   "metadata": {},
   "outputs": [],
   "source": []
  }
 ],
 "metadata": {
  "kernelspec": {
   "display_name": "Python 3.10.2 64-bit",
   "language": "python",
   "name": "python3"
  },
  "language_info": {
   "codemirror_mode": {
    "name": "ipython",
    "version": 3
   },
   "file_extension": ".py",
   "mimetype": "text/x-python",
   "name": "python",
   "nbconvert_exporter": "python",
   "pygments_lexer": "ipython3",
   "version": "3.10.7"
  },
  "orig_nbformat": 4,
  "vscode": {
   "interpreter": {
    "hash": "369f2c481f4da34e4445cda3fffd2e751bd1c4d706f27375911949ba6bb62e1c"
   }
  }
 },
 "nbformat": 4,
 "nbformat_minor": 2
}
