{
 "cells": [
  {
   "cell_type": "code",
   "execution_count": 6,
   "metadata": {},
   "outputs": [
    {
     "name": "stdout",
     "output_type": "stream",
     "text": [
      "a23923ccd5faed408696b9bdc5d01e272745b0103c06ef2cb1a09a9419b023b4\n"
     ]
    }
   ],
   "source": [
    "import hashlib\n",
    "v=hashlib.sha256()\n",
    "v.update(\"adityanandi550@gmail.com\".encode('utf-8'))\n",
    "print(v.hexdigest())"
   ]
  },
  {
   "cell_type": "code",
   "execution_count": 13,
   "metadata": {},
   "outputs": [
    {
     "name": "stdout",
     "output_type": "stream",
     "text": [
      "62911106141234\n",
      "cbd64f298c5c243503b7d8b07930b5df3a33b94e37a19dbf32ef213056c9ab2a\n"
     ]
    }
   ],
   "source": [
    "import hashlib\n",
    "v='6291110614' + '1234'\n",
    "print(v)\n",
    "for i in range(0,5):\n",
    "    v=hashlib.sha256(v.encode('utf-8')).hexdigest()\n",
    "#l=hashlib.sha256(.encode('utf-8')).hexdigest()*5\n",
    "print(v)"
   ]
  },
  {
   "cell_type": "code",
   "execution_count": 19,
   "metadata": {},
   "outputs": [
    {
     "name": "stdout",
     "output_type": "stream",
     "text": [
      "adityanandi550@gmail.com1234\n",
      "3774882e1cff6b9d394f16fe000096e7ad65dbca3a0549e4e38faab550aa5069\n"
     ]
    }
   ],
   "source": [
    "import hashlib\n",
    "v='adityanandi550@gmail.com1234'\n",
    "print(v)\n",
    "for i in range(0,5):\n",
    "    v=hashlib.sha256(v.encode('utf-8')).hexdigest()\n",
    "#l=hashlib.sha256(.encode('utf-8')).hexdigest()*5\n",
    "print(v)"
   ]
  }
 ],
 "metadata": {
  "kernelspec": {
   "display_name": "Python 3.10.2 64-bit",
   "language": "python",
   "name": "python3"
  },
  "language_info": {
   "codemirror_mode": {
    "name": "ipython",
    "version": 3
   },
   "file_extension": ".py",
   "mimetype": "text/x-python",
   "name": "python",
   "nbconvert_exporter": "python",
   "pygments_lexer": "ipython3",
   "version": "3.10.2"
  },
  "orig_nbformat": 4,
  "vscode": {
   "interpreter": {
    "hash": "369f2c481f4da34e4445cda3fffd2e751bd1c4d706f27375911949ba6bb62e1c"
   }
  }
 },
 "nbformat": 4,
 "nbformat_minor": 2
}
